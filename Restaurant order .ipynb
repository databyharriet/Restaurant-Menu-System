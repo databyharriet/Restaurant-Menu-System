{
 "cells": [
  {
   "cell_type": "code",
   "execution_count": 1,
   "id": "052217d5-9962-4a69-b710-2731c607c467",
   "metadata": {},
   "outputs": [
    {
     "name": "stdout",
     "output_type": "stream",
     "text": [
      "Menu Options:\n",
      "Normal: {'rice': 200, 'dodo': 150, 'beans': 100, 'kpomo': 300, 'salad': 250}\n",
      "Swallow: {'garri': 400, 'semo': 350, 'fufu': 450, 'amala': 500}\n",
      "Soup: {'egusi': 700, 'ewedu': 650, 'gbegiri': 600, 'ofe nsala': 750, 'ofe owerri': 800, 'oha': 850}\n"
     ]
    },
    {
     "name": "stdin",
     "output_type": "stream",
     "text": [
      "What category would you like to order from (normal, swallow, soup) or type 'done' to finish:  normal\n"
     ]
    },
    {
     "name": "stdout",
     "output_type": "stream",
     "text": [
      "Available options: {'rice': 200, 'dodo': 150, 'beans': 100, 'kpomo': 300, 'salad': 250}\n"
     ]
    },
    {
     "name": "stdin",
     "output_type": "stream",
     "text": [
      "Please choose your meal:  rice\n",
      "How many plates you wan order?:  2\n"
     ]
    },
    {
     "name": "stdout",
     "output_type": "stream",
     "text": [
      "You have successfully added 2 plates of rice to your order. Cost: 400 Naira.\n"
     ]
    },
    {
     "name": "stdin",
     "output_type": "stream",
     "text": [
      "What category would you like to order from (normal, swallow, soup) or type 'done' to finish:  soup\n"
     ]
    },
    {
     "name": "stdout",
     "output_type": "stream",
     "text": [
      "Available options: {'egusi': 700, 'ewedu': 650, 'gbegiri': 600, 'ofe nsala': 750, 'ofe owerri': 800, 'oha': 850}\n"
     ]
    },
    {
     "name": "stdin",
     "output_type": "stream",
     "text": [
      "Please choose your meal:  egusi\n",
      "How many plates you wan order?:  2\n"
     ]
    },
    {
     "name": "stdout",
     "output_type": "stream",
     "text": [
      "You have successfully added 2 plates of egusi to your order. Cost: 1400 Naira.\n"
     ]
    },
    {
     "name": "stdin",
     "output_type": "stream",
     "text": [
      "What category would you like to order from (normal, swallow, soup) or type 'done' to finish:  done\n"
     ]
    },
    {
     "name": "stdout",
     "output_type": "stream",
     "text": [
      "\n",
      "Your final order:\n",
      "2 plates of rice: 400 Naira\n",
      "2 plates of egusi: 1400 Naira\n",
      "Total cost: 1800 Naira at 2025-04-08 12:22:26\n"
     ]
    }
   ],
   "source": [
    "# Restaurant Menu\n",
    "# the items and their prices\n",
    "normal = {'rice': 200, 'dodo': 150, 'beans': 100, 'kpomo': 300, 'salad': 250}\n",
    "swallow = {'garri': 400, 'semo': 350, 'fufu': 450, 'amala': 500}\n",
    "soup = {'egusi': 700, 'ewedu': 650, 'gbegiri': 600, 'ofe nsala': 750, 'ofe owerri': 800, 'oha': 850}\n",
    "\n",
    "# Display the available options to the user\n",
    "print(\"Menu Options:\")\n",
    "print(f\"Normal: {normal}\")\n",
    "print(f\"Swallow: {swallow}\")\n",
    "print(f\"Soup: {soup}\")\n",
    "\n",
    "from datetime import datetime\n",
    "purchasing_time = datetime.now().strftime(\"%Y-%m-%d %H:%M:%S\")\n",
    "\n",
    "# Initialize an empty order list and total cost\n",
    "order_list = []\n",
    "total_cost = 0\n",
    "\n",
    "# Loop to allow multiple selections\n",
    "while True:\n",
    "    # Ask the user for their choice of category\n",
    "    category = input(\"What category would you like to order from (normal, swallow, soup) or type 'done' to finish: \").lower()\n",
    "    \n",
    "    if category == 'done':\n",
    "        break  # Exit the loop when the user is done ordering\n",
    "    \n",
    "    if category not in ['normal', 'swallow', 'soup']:\n",
    "        print(\"Invalid category. Please choose a valid option.\")\n",
    "        continue  # Skip to the next iteration\n",
    "    \n",
    "    # Display the items in the selected category\n",
    "    if category == 'normal':\n",
    "        print(f\"Available options: {normal}\")\n",
    "        items = normal\n",
    "    elif category == 'swallow':\n",
    "        print(f\"Available options: {swallow}\")\n",
    "        items = swallow\n",
    "    elif category == 'soup':\n",
    "        print(f\"Available options: {soup}\")\n",
    "        items = soup\n",
    "    \n",
    "    # Ask the user for their meal choice and number of plates\n",
    "    meal = input(\"Please choose your meal: \").lower()\n",
    "    if meal not in items:\n",
    "        print(\"Invalid meal choice. Please select a valid option.\")\n",
    "        continue\n",
    "    \n",
    "    try:\n",
    "        num_plates = int(input(\"How many plates you wan order?: \"))\n",
    "        if num_plates <= 0:\n",
    "            print(\"Invalid number of plates. Please enter a positive number.\")\n",
    "            continue\n",
    "    except ValueError:\n",
    "        print(\"Invalid input. Please enter a valid number.\")\n",
    "        continue\n",
    "    \n",
    "    # Calculate the cost for this item and add to the total\n",
    "    price_per_plate = items[meal]\n",
    "    cost = num_plates * price_per_plate\n",
    "    total_cost += cost\n",
    "    order_list.append((meal, num_plates, cost))\n",
    "    print(f\"You have successfully added {num_plates} plates of {meal} to your order. Cost: {cost} Naira.\")\n",
    "\n",
    "# Final Order Summary\n",
    "if order_list:\n",
    "    print(\"\\nYour final order:\")\n",
    "    for item, quantity, cost in order_list:\n",
    "        print(f\"{quantity} plates of {item}: {cost} Naira\")\n",
    "    print(f\"Total cost: {total_cost} Naira at {purchasing_time}\")\n",
    "else:\n",
    "    print(\"You did not order anything. Thank you for visiting!\")\n",
    "\n",
    "\n",
    "\n"
   ]
  },
  {
   "cell_type": "code",
   "execution_count": null,
   "id": "af4ba85e-1bfc-465d-a173-bed71ce20d46",
   "metadata": {},
   "outputs": [],
   "source": []
  }
 ],
 "metadata": {
  "kernelspec": {
   "display_name": "Python 3 (ipykernel)",
   "language": "python",
   "name": "python3"
  },
  "language_info": {
   "codemirror_mode": {
    "name": "ipython",
    "version": 3
   },
   "file_extension": ".py",
   "mimetype": "text/x-python",
   "name": "python",
   "nbconvert_exporter": "python",
   "pygments_lexer": "ipython3",
   "version": "3.12.7"
  }
 },
 "nbformat": 4,
 "nbformat_minor": 5
}
